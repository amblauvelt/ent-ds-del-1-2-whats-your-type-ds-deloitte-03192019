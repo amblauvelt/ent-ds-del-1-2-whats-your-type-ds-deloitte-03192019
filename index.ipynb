{
 "cells": [
  {
   "cell_type": "markdown",
   "metadata": {},
   "source": [
    "# What's Your Type?\n",
    "\n",
    "\n",
    "## Introduction\n",
    "Imagine that you've got a spreadsheet full of data, but it's pretty messy. The person and company names all have different capitalization, the dates are in all kinds of different formats, there are longer chunks of text that you need to extract information from. Some of the data is missing or has invalid values.\n",
    "\n",
    "One of the things programming in Python will allow you to do is to import a file like that, loop over the data and automate the cleaning of it so in the future when you get similar data you can just run it through the same (or a similar) program to clean it up really quickly.\n",
    "\n",
    "By the end of next week, you're going to be able to import a file, loop over all of the data, clean it up and then save it back to a file again. Over the next few lessons we'll be introducing the key concepts you'll need to be able to do that.\n",
    "\n",
    "In this lesson, we'll introduce a couple of key concepts that the rest of your programming will depend upon - **variables** (for storing information) and **data types** (for working differently with different types of data).\n",
    "\n",
    "\n",
    "## Objectives\n",
    "You will be able to:\n",
    "* Explain how variables are a key element of programming \n",
    "* List some common data types in Python\n",
    "* Pick the appropriate Python data type for a given type of information"
   ]
  },
  {
   "cell_type": "markdown",
   "metadata": {},
   "source": [
    "## Variables\n",
    "\n",
    "A variable is a representation of some data that can be changed over time. \n",
    "\n",
    "Hit `shift-enter` to run the two cells below . . ."
   ]
  },
  {
   "cell_type": "code",
   "execution_count": 1,
   "metadata": {},
   "outputs": [
    {
     "data": {
      "text/plain": [
       "'Sally'"
      ]
     },
     "execution_count": 1,
     "metadata": {},
     "output_type": "execute_result"
    }
   ],
   "source": [
    "name = \"Sally\"\n",
    "name"
   ]
  },
  {
   "cell_type": "code",
   "execution_count": 2,
   "metadata": {},
   "outputs": [
    {
     "data": {
      "text/plain": [
       "'Bill'"
      ]
     },
     "execution_count": 2,
     "metadata": {},
     "output_type": "execute_result"
    }
   ],
   "source": [
    "name = \"Bill\"\n",
    "name"
   ]
  },
  {
   "cell_type": "markdown",
   "metadata": {},
   "source": [
    "As you can see, we started by **assigning** the value of \"Sally\" to the variable called `name` \n",
    "We then changed the value of the variable called `name` to \"Bill\""
   ]
  },
  {
   "cell_type": "markdown",
   "metadata": {},
   "source": [
    "Variables are one of the most important building blocks in programming as they allow us to store information, change it and act based on it's values . . . Run the next few cells using `shift-enter` . . ."
   ]
  },
  {
   "cell_type": "code",
   "execution_count": 3,
   "metadata": {},
   "outputs": [
    {
     "data": {
      "text/plain": [
       "'Jessie Warden'"
      ]
     },
     "execution_count": 3,
     "metadata": {},
     "output_type": "execute_result"
    }
   ],
   "source": [
    "first_name = \"Jessie\"\n",
    "last_name = \"Warden\"\n",
    "full_name = first_name + \" \" + last_name\n",
    "full_name"
   ]
  },
  {
   "cell_type": "code",
   "execution_count": 4,
   "metadata": {},
   "outputs": [
    {
     "name": "stdout",
     "output_type": "stream",
     "text": [
      "I think it's Jessie\n"
     ]
    }
   ],
   "source": [
    "if last_name == \"Warden\":\n",
    "    print(\"I think it's Jessie\")\n",
    "else:\n",
    "    print(\"I don't think it's Jessie\")"
   ]
  },
  {
   "cell_type": "code",
   "execution_count": 5,
   "metadata": {},
   "outputs": [
    {
     "name": "stdout",
     "output_type": "stream",
     "text": [
      "I don't think it's Jessie\n"
     ]
    }
   ],
   "source": [
    "last_name = \"Something Else\"\n",
    "if last_name == \"Warden\":\n",
    "    print(\"I think it's Jessie\")\n",
    "else:\n",
    "    print(\"I don't think it's Jessie\")"
   ]
  },
  {
   "cell_type": "markdown",
   "metadata": {},
   "source": [
    "## Data Types\n",
    "\n",
    "Every variable has a data type associated with it in Python. You can find the type using the following code:"
   ]
  },
  {
   "cell_type": "code",
   "execution_count": 6,
   "metadata": {},
   "outputs": [
    {
     "data": {
      "text/plain": [
       "str"
      ]
     },
     "execution_count": 6,
     "metadata": {},
     "output_type": "execute_result"
    }
   ],
   "source": [
    "type(first_name)"
   ]
  },
  {
   "cell_type": "code",
   "execution_count": 10,
   "metadata": {},
   "outputs": [
    {
     "data": {
      "text/plain": [
       "float"
      ]
     },
     "execution_count": 10,
     "metadata": {},
     "output_type": "execute_result"
    }
   ],
   "source": [
    "type(10000.40)"
   ]
  },
  {
   "cell_type": "markdown",
   "metadata": {},
   "source": [
    "As you can see if you run the cell above, the data type for the first_name variable is \"str\" which is short for \"string\".\n",
    "\n",
    "The **string** data type is one of the most common and flexible data types. When you import data into Python, it'll often start off as a string. If something can be represented by a set of characters, it can have a data type of string. Pretty much the only thing you can't store in a string is a binary file - something like an image or a video.\n",
    "\n",
    "Even though you *can* store almost anything in a string, you don't always want to.\n",
    "\n",
    "For example, lets say you have sales figures for three stores in a region last month and want to know what the total sales were, storing the information as variables with a data type of string might not work the way you'd want it to:"
   ]
  },
  {
   "cell_type": "code",
   "execution_count": 7,
   "metadata": {
    "scrolled": true
   },
   "outputs": [
    {
     "data": {
      "text/plain": [
       "'200003000015000'"
      ]
     },
     "execution_count": 7,
     "metadata": {},
     "output_type": "execute_result"
    }
   ],
   "source": [
    "store_1_sales = \"20000\"\n",
    "store_2_sales = \"30000\"\n",
    "store_3_sales = \"15000\"\n",
    "regional_sales = store_1_sales + store_2_sales + store_3_sales\n",
    "regional_sales"
   ]
  },
  {
   "cell_type": "markdown",
   "metadata": {},
   "source": [
    "If you run the code above you'll see *that* isn't what you want! So we've going to have to change the type of the three variables to a type that allows for math. One good data type for that is the **Integer** (for whole numbers - no fractions or decimals)."
   ]
  },
  {
   "cell_type": "code",
   "execution_count": 8,
   "metadata": {},
   "outputs": [
    {
     "data": {
      "text/plain": [
       "65000"
      ]
     },
     "execution_count": 8,
     "metadata": {},
     "output_type": "execute_result"
    }
   ],
   "source": [
    "store_1_sales = \"20000\"\n",
    "store_2_sales = \"30000\"\n",
    "store_3_sales = \"15000\"\n",
    "regional_sales = int(store_1_sales) + int(store_2_sales) + int(store_3_sales)\n",
    "regional_sales"
   ]
  },
  {
   "cell_type": "markdown",
   "metadata": {},
   "source": [
    "## Common Data Types in Python\n",
    "Some of the most common, simple data types in Python are:\n",
    "* **String** - Pretty much any set of characters can be stored as a string. Strings are a good starting point for most of your data, but you'll have to convert data if you want to do math with it, use it easily to return \"true\" or \"false\", or want to operate on dates and/or times.\n",
    "* **Integer** - Perfect for round numbers that you want to do math on. Number of students in a class, houses in a city or the number of pets that a particular family owns would all be great examples *(assuming there aren't any half demolished houses and that nobody owns a quarter of a pet goldfish!)*\n",
    "* **Floating point** - Ideal for numbers that require more precision than integers. It could be a stock price in dollars, the average age of a group of people, or the exact height of a person in meters. Be careful though. Floating point math in computers is not absolute, so occasionally you'll do math and the computer will return an answer of 23.00000001 or 22.99999999999 when if you'd done the same math yourself you'd see that actually the real answer is exactly 23.0\n",
    "* **Boolean** - Perfect for storing a value that is either **true** or **false**. `has_children` or `is_employed` would be examples of variable names that might want to have a boolean data type.\n",
    "* **DateTime** - If you want to compare dates, calculate the length of an event in hours or figure out how long it is until a discount code expires, you probably want to use a DateTime data type. Very powerful, but be careful. It might seem easy to write code using date times, but make sure to think about issues like timezones and daylight saving time - otherwise you might get some unexpected results!"
   ]
  },
  {
   "cell_type": "markdown",
   "metadata": {},
   "source": [
    "## Summary\n",
    "\n",
    "In this lesson we introduced the concept of variables and data types. We also provided a summary of some of the more popular, simple Python data types *(we'll talk about more complex data types like arrays, sets, lists and collections later)*. We also looked at the use cases for those popular variables.\n",
    "\n",
    "In the next lesson we're going to look at some common data cleaning tasks and how we can perform them on variables.\n",
    "\n"
   ]
  }
 ],
 "metadata": {
  "kernelspec": {
   "display_name": "Python 3",
   "language": "python",
   "name": "python3"
  },
  "language_info": {
   "codemirror_mode": {
    "name": "ipython",
    "version": 3
   },
   "file_extension": ".py",
   "mimetype": "text/x-python",
   "name": "python",
   "nbconvert_exporter": "python",
   "pygments_lexer": "ipython3",
   "version": "3.7.1"
  }
 },
 "nbformat": 4,
 "nbformat_minor": 2
}
